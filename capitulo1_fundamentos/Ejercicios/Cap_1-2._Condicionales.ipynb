{
 "cells": [
  {
   "cell_type": "markdown",
   "id": "14e10bbc-9c33-4126-95ba-e8eb0074352d",
   "metadata": {},
   "source": [
    "# Sentencias condicionales (Unidades 5 a 7) "
   ]
  },
  {
   "cell_type": "markdown",
   "id": "9bc337b7-7fb5-436c-ad23-004daf4be290",
   "metadata": {},
   "source": [
    "## Ejercicios sencillos"
   ]
  },
  {
   "cell_type": "markdown",
   "id": "9390566f-c790-4218-ace8-c4e3ca4eda95",
   "metadata": {},
   "source": [
    "---\n",
    "1. A continuación se muestran varias expresiones booleanas. Intenta **predecir** el resultado de cada una de ellas, y luego **ejecútala** en la celda de abajo para comprobar su resultado:\n",
    "```Python\n",
    "- True and not False\n",
    "- True or not True\n",
    "- True or True and False\n",
    "- not True or not False\n",
    "- True and not 0\n",
    "- 52 < 52.3\n",
    "- 1 + 52 < 52.3\n",
    "- 4 != 4.0\n",
    "- \"melocotón\" < \"manzana\"\n",
    "- \"elefante\" > \"Ratón\"\n",
    "```"
   ]
  },
  {
   "cell_type": "code",
   "execution_count": 1,
   "id": "d30dbbc8-7af9-483b-a3a2-47011d8e54b8",
   "metadata": {},
   "outputs": [],
   "source": [
    "# Escribe y ejecuta cada expresión (tras haber predicho su resultado):\n"
   ]
  },
  {
   "cell_type": "markdown",
   "id": "90370ac8-d72c-4d85-89ff-0823983000cb",
   "metadata": {},
   "source": [
    "---\n",
    "2. Escribe una **expresión** en Python que devuelva cierto si un entero  almacenado en la variable ```n```es mayor que 100 o menor que 0."
   ]
  },
  {
   "cell_type": "code",
   "execution_count": 1,
   "id": "b8c6a4f4-3a46-46de-b3b8-cba9998ce729",
   "metadata": {},
   "outputs": [
    {
     "name": "stdout",
     "output_type": "stream",
     "text": [
      "Es mayor que 100\n"
     ]
    }
   ],
   "source": [
    "n = int(input(\"Introduce un número entero: \"))\n",
    "# Expresión:\n",
    "\n",
    "if n>100:\n",
    "    print(\"Es mayor que 100\")\n",
    "elif n<0:\n",
    "    print(\"Es menor que 0\")"
   ]
  },
  {
   "cell_type": "markdown",
   "id": "98a6b999-559e-453a-b2f6-3d3e0f359fa8",
   "metadata": {},
   "source": [
    "---\n",
    "3. Sean dos variables booleanas denominadas ```full``` y ```empty```. Escribe una **expresión** en Python que devuelva cierto cuando como máximo una de ellas sea cierta."
   ]
  },
  {
   "cell_type": "code",
   "execution_count": null,
   "id": "99e93103-eadb-49e4-938d-5c70419f65e5",
   "metadata": {},
   "outputs": [],
   "source": [
    "full = True  # o False\n",
    "empty = True # o False\n",
    "# Expresión:\n",
    "not (full and empty)\n"
   ]
  },
  {
   "cell_type": "markdown",
   "id": "8a831066-fc23-42f0-9a00-cfa6f43bc439",
   "metadata": {},
   "source": [
    "---\n",
    "4. En una tienda de electrodomésticos se aplican distintos descuentos en función del total de las compras realizadas:\n",
    "- Si el total es menor que 500€, no se aplica ningún descuento.\n",
    "- Si el total está entre 500€ y 2000€ (ambos inclusive), se aplica un descuento del 30%.\n",
    "- Si total es superior a 2000€, se aplica un descuento del 50%.\n",
    "\n",
    "Escribe un programa que, tras introducir por teclado un total (en euros), calcule la **cantidad a pagar** tras aplicar el **descuento** correspondiente.\n",
    "\n",
    "Puedes programar dos versiones distintas, la primera mediante varias instrucciones condicionales independientes, y la segunda con una única instrucción condicional (con varias opciones encadenadas).\n"
   ]
  },
  {
   "cell_type": "code",
   "execution_count": 4,
   "id": "9225348b-cf2c-4283-99a9-42d7922f25f8",
   "metadata": {},
   "outputs": [],
   "source": [
    "# Primera versión: condiciones independientes:\n",
    "\n",
    "\n",
    "# Segunda versión: una única instrucción condicional (anidada):\n",
    "\n"
   ]
  },
  {
   "cell_type": "markdown",
   "id": "c4602d38-699a-4ff3-a4a3-191556174831",
   "metadata": {},
   "source": [
    "---\n",
    "5. Implementa un programa que lea por teclado dos números enteros y diga si su **producto** es positivo, negativo, o cero **sin** llegar a realizar dicho producto.\n"
   ]
  },
  {
   "cell_type": "code",
   "execution_count": 5,
   "id": "3899b0e1-311e-466e-a184-bffa033b12ee",
   "metadata": {},
   "outputs": [
    {
     "name": "stdout",
     "output_type": "stream",
     "text": [
      "El producto es positivo\n"
     ]
    }
   ],
   "source": [
    "# Leer primer número:\n",
    "num1= int(input(\"Dame un numero : \"))\n",
    "\n",
    "# Leer segundo número:\n",
    "num2= int(input(\"Dame otro numero : \"))\n",
    "\n",
    "# El resultado su producto sería: positivo, negativo o cero:\n",
    "if (num1>0 and num2>0 ) or (num1<0 and num2<0):\n",
    "    print(\"El producto es positivo\")\n",
    "else: \n",
    "    print(\"El producto es negativo\")\n"
   ]
  },
  {
   "cell_type": "markdown",
   "id": "0b721d73-dbfa-41b9-8364-276b53748fa5",
   "metadata": {},
   "source": [
    "\n",
    "---\n",
    "---\n",
    "## Ejercicios difíciles"
   ]
  },
  {
   "cell_type": "markdown",
   "id": "e78918ed-b053-429b-98ab-bbbdf003e5c0",
   "metadata": {},
   "source": [
    "---\n",
    "6. Implementa un programa que simule una jugada de **tirar dos dados**. El programa debe pedir al usuario dos valores enteros y almacenarlos en las variables ```d1``` y ```d2```.\n",
    "\n",
    "En primer lugar, se debe verificar que ambos valores son **correctos**, es decir, están entre los posibles de un dado de seis caras (1 a 6). En caso contrario, el programa debe informar cuál de ellos es incorrecto (pueden ser uno de ambos, o los dos).\n",
    "\n",
    "Si ambos valores introducidos son correctos, entonces se debe escribir por pantalla el **resultado de la jugada**, entre los siguientes, en función de la suma de ambos:\n",
    "* 7 u 11, el usuario gana.\n",
    "* 2, 3 o 12, el usuario pierde.\n",
    "* 4, 5, 6, 8, 9 o 10, el usuario puede lanzar los dados de nuevo.\n",
    "\n"
   ]
  },
  {
   "cell_type": "code",
   "execution_count": null,
   "id": "256d33ad-4f00-47de-b70f-8877debe5a8f",
   "metadata": {},
   "outputs": [
    {
     "name": "stdout",
     "output_type": "stream",
     "text": [
      "No estan en el rango\n"
     ]
    }
   ],
   "source": [
    "# Leer primer número:\n",
    "d1= int(input(\"Dame un numero : \"))\n",
    "\n",
    "# Leer segundo número:\n",
    "d2= int(input(\"Dame otro numero : \"))\n",
    "\n",
    "#Comprobar que ambos valores son correctos\n",
    "if (d1 and d2) in range(1,7):\n",
    "    result= d1+d2\n",
    "    if result ==7 or result==11:\n",
    "        print(\"YOU WIN\")\n",
    "    elif result in [2,3,12]:\n",
    "        print(\"YOU LOSE\")\n",
    "    else:\n",
    "       print(\"YOU CAN try AGAIN\")\n",
    "else:\n",
    "    if not (d1 and d2) in range(1,7):\n",
    "        print(\"Ninguno esta en el rango\")\n",
    "    elif d2 not in range(1,7):\n",
    "        print(\"El segundo valor no esta en el rango\")\n",
    "    else:\n",
    "        print(\"El primer valor no esta en el rango\")"
   ]
  },
  {
   "cell_type": "markdown",
   "id": "e1c07441-0b48-4825-b9b3-edb698258dcc",
   "metadata": {},
   "source": [
    "---\n",
    "7. Implementa un programa en Python que calcule el precio **total** que le costaría a un usuario obtener un **carnet de conducir**.\n",
    "\n",
    "Para ello, debe pedir al usuario el **tipo** de carnet de conducir que quiere obtener y el **número de prácticas** que piensa realizar y en función de ambos, mostrar por pantalla el precio total que le costaría obtener dicho carnet, si las tarifas de la autoescuela son las de la siguiente tabla:\n",
    "\n",
    "|Tipo de carnet|Tarifa de matrícula|Precio por práctica|\n",
    "|--------------|-------------------|-------------------|\n",
    "| A            | 150 €             | 35 €              |\n",
    "| B            | 325 €             | 40 €              |\n",
    "| C            | 520 €             | 48 €              |\n",
    "| D            | 610 €             | 62 €              |\n",
    "\n",
    "\n"
   ]
  },
  {
   "cell_type": "code",
   "execution_count": 9,
   "id": "757fefc1-ec2c-4c3a-8bc0-14d0767f8978",
   "metadata": {},
   "outputs": [
    {
     "name": "stdout",
     "output_type": "stream",
     "text": [
      "No ofertamos eses tipo de carnet\n"
     ]
    }
   ],
   "source": [
    "tipo_carnet = input(\"Que tipo de carnet te quieres sacar\")\n",
    "num_practicas = int(input(\"Y cuantas prácticas te gustaria\"))\n",
    "\n",
    "if tipo_carnet == \"A\":\n",
    "    print(\"El precio total es : \",150 + 35*num_practicas)\n",
    "elif tipo_carnet == \"B\":\n",
    "    print(\"El precio total es : \",325 + 40*num_practicas)\n",
    "elif tipo_carnet == \"C\":\n",
    "    print(\"El precio total es : \",520 + 48*num_practicas)\n",
    "elif tipo_carnet == \"D\":\n",
    "    print(\"El precio total es : \",610 + 62*num_practicas)\n",
    "else:\n",
    "    print(\"No ofertamos eses tipo de carnet\")"
   ]
  },
  {
   "cell_type": "markdown",
   "id": "325290f0-da0f-409b-b8af-dc6105a47bbd",
   "metadata": {},
   "source": [
    "---\n",
    "8. Implementa un programa en Python que confirme si una **fecha es correcta** o no. Para ello, se debe pedir al usuario tres valores enteros:\n",
    "- Un número de **día**.\n",
    "- Un número de **mes**.\n",
    "- Un **año**.\n",
    "\n",
    "El programa debe devolver un mensaje diciendo si esos valores se corresponden o no con una **fecha válida**, incluyendo la posibilidad de que los valores sean negativos, que el día y el mes estén o no en los rangos adecuados, y que el año introducido sea o no bisiesto. \n",
    "\n",
    "> **NOTA:** recuerda que la condición para saber si un cierto ```anyo``` es bisiesto es la siguiente:\n",
    "```\n",
    "(anyo % 4 == 0) and ((not anyo % 100 == 0) or (anyo % 400 == 0))\n",
    "```\n"
   ]
  },
  {
   "cell_type": "code",
   "execution_count": null,
   "id": "eaf80816-da49-467b-814f-fa52f5fcf8fe",
   "metadata": {},
   "outputs": [],
   "source": [
    "dia = int(input(\"Introduce el día: \"))\n",
    "mes = int(input(\"Introduce el mes: \"))\n",
    "anyo = int(input(\"Introduce el año: \"))\n",
    "\n",
    "es_bisiesto = (anyo % 4 == 0) and ((anyo % 100 != 0) or (anyo % 400 == 0))\n",
    "\n",
    "if mes < 1 or mes > 12:\n",
    "    print(\"El mes no es válido.\")\n",
    "else:\n",
    "    if mes in [1, 3, 5, 7, 8, 10, 12]:\n",
    "        max_dia = 31\n",
    "    elif mes in [4, 6, 9, 11]:\n",
    "        max_dia = 30\n",
    "    elif mes == 2:\n",
    "        max_dia = 29 if es_bisiesto else 28\n",
    "\n",
    "    if 1 <= dia <= max_dia:\n",
    "        print(\"La fecha es válida.\")\n",
    "    else:\n",
    "        print(\"El día no es válido.\")\n"
   ]
  }
 ],
 "metadata": {
  "kernelspec": {
   "display_name": "base",
   "language": "python",
   "name": "python3"
  },
  "language_info": {
   "codemirror_mode": {
    "name": "ipython",
    "version": 3
   },
   "file_extension": ".py",
   "mimetype": "text/x-python",
   "name": "python",
   "nbconvert_exporter": "python",
   "pygments_lexer": "ipython3",
   "version": "3.12.7"
  }
 },
 "nbformat": 4,
 "nbformat_minor": 5
}
