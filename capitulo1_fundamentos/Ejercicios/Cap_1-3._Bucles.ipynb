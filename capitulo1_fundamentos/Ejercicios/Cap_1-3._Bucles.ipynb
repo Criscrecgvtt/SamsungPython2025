{
 "cells": [
  {
   "cell_type": "markdown",
   "id": "b98d03fa-661d-43bd-8c3b-56e17b21c268",
   "metadata": {},
   "source": [
    "# Sentencias de repetición o bucles (Unidades 8 y 9) "
   ]
  },
  {
   "cell_type": "markdown",
   "id": "00d3fe1b-c621-41d7-bdec-55c865e811e9",
   "metadata": {},
   "source": [
    "## Ejercicios sencillos"
   ]
  },
  {
   "cell_type": "markdown",
   "id": "091a09bf-4840-4cac-90c9-8e59bfc4d367",
   "metadata": {},
   "source": [
    "---\n",
    "1. Haz una **traza** del programa que figura a continuación y explica qué hace (qué saldría por pantalla). A continuación, copia y pega el programa en la celda de abajo y ejecútalo para comprobar si estabas en lo cierto.\n",
    "\n",
    "```python\n",
    "k = 5\n",
    "i = -6\n",
    "while (i <= k):\n",
    "    i = i + 2\n",
    "    k = k - 2\n",
    "    print (i+k)\n",
    "\n",
    "```\n",
    "\n"
   ]
  },
  {
   "cell_type": "code",
   "execution_count": 1,
   "id": "f70a214d-984a-4ea8-9136-28f36c4da1e4",
   "metadata": {},
   "outputs": [
    {
     "name": "stdout",
     "output_type": "stream",
     "text": [
      "-1\n",
      "-1\n",
      "-1\n"
     ]
    }
   ],
   "source": [
    "\n",
    "k = 5\n",
    "i = -6\n",
    "while (i <= k):\n",
    "    i = i + 2\n",
    "    k = k - 2\n",
    "    print (i+k)\n"
   ]
  },
  {
   "cell_type": "markdown",
   "id": "4859aac6-5ebe-4bab-8b5e-25003ec1f253",
   "metadata": {},
   "source": [
    "---\n",
    "2. Haz una **traza** del programa que figura a continuación y explica qué hace (qué saldría por pantalla). A continuación, copia y pega el programa en la celda de abajo y ejecútalo para comprobar si estabas en lo cierto.\n",
    "\n",
    "```python\n",
    "n = 5\n",
    "while n > 0:\n",
    "    if (n == 2):\n",
    "        break\n",
    "    n = n - 1\n",
    "    print(n)\n",
    "print(\"Bucle terminado.\")\n",
    "```\n",
    "\n"
   ]
  },
  {
   "cell_type": "code",
   "execution_count": 2,
   "id": "935db8bf-0b08-476f-ac60-d327e65665bf",
   "metadata": {},
   "outputs": [
    {
     "name": "stdout",
     "output_type": "stream",
     "text": [
      "4\n",
      "3\n",
      "2\n",
      "Bucle terminado.\n"
     ]
    }
   ],
   "source": [
    "n = 5\n",
    "while n > 0:\n",
    "    if (n == 2):\n",
    "        break\n",
    "    n = n - 1\n",
    "    print(n)\n",
    "print(\"Bucle terminado.\")\n"
   ]
  },
  {
   "cell_type": "markdown",
   "id": "45f60e21-6f9f-4c54-8f90-21ec0721b07b",
   "metadata": {},
   "source": [
    "---\n",
    "3. Haz una **traza** del programa que figura a continuación y explica qué hace (qué saldría por pantalla). A continuación, copia y pega el programa en la celda de abajo y ejecútalo para comprobar si estabas en lo cierto.\n",
    "\n",
    "```python\n",
    "que = input(\"¿Qué te parece? \")\n",
    "while (que != \"me encanta\"): \n",
    "    print(\"¡Venga, no seas negativ@!\")\n",
    "    que = input(\"¿Qué te parece?\")\n",
    "print(\"¡¡A que sí!! ¡A mi también\", que, \"!\")\n",
    "```\n",
    "\n"
   ]
  },
  {
   "cell_type": "code",
   "execution_count": 3,
   "id": "f39004ba-8d27-4966-aca0-7c9fe3f406f0",
   "metadata": {},
   "outputs": [
    {
     "name": "stdout",
     "output_type": "stream",
     "text": [
      "¡Venga, no seas negativ@!\n",
      "¡Venga, no seas negativ@!\n",
      "¡¡A que sí!! ¡A mi también me encanta !\n"
     ]
    }
   ],
   "source": [
    "que = input(\"¿Qué te parece? \")\n",
    "while (que != \"me encanta\"): \n",
    "    print(\"¡Venga, no seas negativ@!\")\n",
    "    que = input(\"¿Qué te parece?\")\n",
    "print(\"¡¡A que sí!! ¡A mi también\", que, \"!\")\n"
   ]
  },
  {
   "cell_type": "markdown",
   "id": "516b028b-1c28-4c70-a3f4-7783c79580ac",
   "metadata": {},
   "source": [
    "---\n",
    "4. Escribe un programa que **lea repetidamente valores** por teclado hasta que el usuario introduzca la cadena “fin”. Esos valores deben considerarse como números enteros. Una vez se haya introducido “fin”, el programa debe dejar de aceptar valores y mostrar por pantalla la **cantidad** de números introducidos hasta ese momento, su **suma** total y su **valor medio**.\n",
    "\n",
    "> **NOTA:** Excepto en el caso de la cadena \"fin\", el programa puede suponer que el usuario siempre introduce valores que pueden considerarse números enteros.\n",
    "\n"
   ]
  },
  {
   "cell_type": "code",
   "execution_count": null,
   "id": "109bf745-da35-4085-bf03-1574bace0253",
   "metadata": {},
   "outputs": [
    {
     "name": "stdout",
     "output_type": "stream",
     "text": [
      "La suma total es 15 y hemos sumado 5,la media es 3.0\n"
     ]
    }
   ],
   "source": [
    "suma = 0\n",
    "contador = 0\n",
    "\n",
    "while True:\n",
    "    inp = input(\"Dame un valor o 'fin' si deseas terminar: \")\n",
    "    if inp == \"fin\":\n",
    "        break\n",
    "    else:\n",
    "        a = int(inp)\n",
    "        suma += a\n",
    "        contador += 1\n",
    "\n",
    "if contador > 0:\n",
    "    print(\"La suma total es {}, hemos sumado {} números, la media es {:.2f}\".format(suma, contador, suma / contador))\n",
    "else:\n",
    "    print(\"No se introdujeron números.\")\n"
   ]
  },
  {
   "cell_type": "markdown",
   "id": "56773dee-04b1-4f12-8e39-c62b46544dd8",
   "metadata": {},
   "source": [
    "---\n",
    "5. Haz una **traza** del programa que figura a continuación y explica qué hace (qué saldría por pantalla). A continuación, copia y pega el programa en la celda de abajo y ejecútalo para comprobar si estabas en lo cierto.\n",
    "\n",
    "```python\n",
    "nfil = 2\n",
    "ncol = 3\n",
    "for i in range (1 , nfil + 1):\n",
    "    for j in range (1 , ncol + 1):\n",
    "        print(\"{:d} - {:d} = {:2d}\".format(i, j, i - j))\n",
    "```\n",
    "   "
   ]
  },
  {
   "cell_type": "code",
   "execution_count": 12,
   "id": "deae66b2-9e4e-4f16-b172-a8652ed9576b",
   "metadata": {},
   "outputs": [
    {
     "name": "stdout",
     "output_type": "stream",
     "text": [
      "1 - 1 =  0\n",
      "1 - 2 = -1\n",
      "1 - 3 = -2\n",
      "2 - 1 =  1\n",
      "2 - 2 =  0\n",
      "2 - 3 = -1\n"
     ]
    }
   ],
   "source": [
    "nfil = 2\n",
    "ncol = 3\n",
    "for i in range (1 , nfil + 1):\n",
    "    for j in range (1 , ncol + 1):\n",
    "        print(\"{:d} - {:d} = {:2d}\".format(i, j, i - j))\n"
   ]
  },
  {
   "cell_type": "markdown",
   "id": "02698a8c-47d6-4e67-b753-98e3c064ea7d",
   "metadata": {},
   "source": [
    "---\n",
    "---\n",
    "## Ejercicios difíciles\n"
   ]
  },
  {
   "cell_type": "markdown",
   "id": "ba18e778-6b13-4a83-b6df-514e4c837ac6",
   "metadata": {},
   "source": [
    "---\n",
    "6. Implementa un programa que reciba como entrada del usuario un número entero positivo ```n``` e imprima por pantalla todos los **múltiplos de 3** que hay entre 1 y ```n```, o \"No hay múltiplos de 3\" en el caso de que no haya ninguno. El programa debe filtrar primero que reciba un número entero positivo y no cualquier otra entrada.\n",
    "\n",
    "> **NOTA:** Para saber si una cadena ```cad``` incluye solo dígtos o no, puede utilizarse el método ```cad.isdigit()```.\n"
   ]
  },
  {
   "cell_type": "code",
   "execution_count": 21,
   "id": "bab39a81-387b-4a17-9b97-3fdca0ccaf15",
   "metadata": {},
   "outputs": [
    {
     "name": "stdout",
     "output_type": "stream",
     "text": [
      "3 es un múltiplo de 3, que se encuentra entre 1 y 15\n",
      "6 es un múltiplo de 3, que se encuentra entre 1 y 15\n",
      "9 es un múltiplo de 3, que se encuentra entre 1 y 15\n",
      "12 es un múltiplo de 3, que se encuentra entre 1 y 15\n",
      "15 es un múltiplo de 3, que se encuentra entre 1 y 15\n",
      "END\n"
     ]
    }
   ],
   "source": [
    "n = input(\"Dame un número\")\n",
    "while not n.isdigit():\n",
    "    print(\"Esto no es número, vuelve a intentarlo\")\n",
    "    n = input(\"Dame un número\")\n",
    "\n",
    "n = int(n)\n",
    "for i in range (1,n+1):\n",
    "    if (i%3 == 0 ):\n",
    "        print(\"{} es un múltiplo de 3, que se encuentra entre 1 y {}\".format(i,n))\n",
    "print(\"END\")"
   ]
  },
  {
   "cell_type": "markdown",
   "id": "e3f6e7c6-6132-45a0-9774-8d1af6e7d471",
   "metadata": {},
   "source": [
    "---\n",
    "7. Implementa un programa que reciba como entrada un número entero positivo ```n``` y lo **factorice**, es decir, imprima por pantalla la secuencia creciente de sus factores o **divisores primos**. Por ejemplo, la secuencia de factores de 126 es: 2, 3, 3, 7.\n"
   ]
  },
  {
   "cell_type": "code",
   "execution_count": null,
   "id": "8a4c456a-aae3-4bd5-9f31-6fb6e8af15b4",
   "metadata": {},
   "outputs": [],
   "source": [
    "n = input(\"Dame un número\")\n",
    "while not n.isdigit():\n",
    "    print(\"Esto no es número, vuelve a intentarlo\")\n",
    "    n = input(\"Dame un número\")\n",
    "    \n",
    "\n"
   ]
  },
  {
   "cell_type": "markdown",
   "id": "5f0b79dd-7874-40a6-8ac7-aa291be11289",
   "metadata": {},
   "source": [
    "---\n",
    "8. Implementa un programa que imprima por pantalla todos los **números primos** existentes entre dos números introducidos por teclado, ```n1```y ```n2```, ambos inclusive. El programa deberá comenzar siempre por el menor de ambos, independientemente de en qué orden han sido leídos por teclado.\n",
    "\n",
    " "
   ]
  },
  {
   "cell_type": "code",
   "execution_count": null,
   "id": "62f223c1-4343-4f69-90a9-881129d68e0c",
   "metadata": {},
   "outputs": [],
   "source": [
    "\n"
   ]
  }
 ],
 "metadata": {
  "kernelspec": {
   "display_name": "base",
   "language": "python",
   "name": "python3"
  },
  "language_info": {
   "codemirror_mode": {
    "name": "ipython",
    "version": 3
   },
   "file_extension": ".py",
   "mimetype": "text/x-python",
   "name": "python",
   "nbconvert_exporter": "python",
   "pygments_lexer": "ipython3",
   "version": "3.12.7"
  }
 },
 "nbformat": 4,
 "nbformat_minor": 5
}
