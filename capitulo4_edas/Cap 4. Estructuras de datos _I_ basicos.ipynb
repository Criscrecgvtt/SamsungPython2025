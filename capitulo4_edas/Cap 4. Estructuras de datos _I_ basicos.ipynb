{
 "cells": [
  {
   "cell_type": "markdown",
   "id": "8346e2ed",
   "metadata": {},
   "source": [
    "# Estructuras de datos (Capítulo 4) - Ejercicios básicos"
   ]
  },
  {
   "cell_type": "markdown",
   "id": "3b1df425-fab1-4d82-86a1-94f864e4c844",
   "metadata": {},
   "source": [
    "## Sección 1: Pilas"
   ]
  },
  {
   "cell_type": "markdown",
   "id": "2ea9978a",
   "metadata": {},
   "source": [
    "***\n",
    "**Ejercicio 1:** Escribe una función `invertir_cadena(cadena)` que reciba una cadena y devuelva la cadena invertida, utilizando para ello una pila.\n",
    "\n",
    "Casos de prueba:\n",
    "```Python\n",
    "print(invertir_cadena(\"hola\"))         ==>  aloh\n",
    "print(invertir_cadena(\"experimento\"))  ==> otnemirepxe\n",
    "```"
   ]
  },
  {
   "cell_type": "code",
   "execution_count": 7,
   "id": "e3889651",
   "metadata": {},
   "outputs": [
    {
     "name": "stdout",
     "output_type": "stream",
     "text": [
      "aloh\n"
     ]
    }
   ],
   "source": [
    "def invertir_cadena(cadena):\n",
    "    pila = []\n",
    "    res =\"\"\n",
    "    for c in cadena:\n",
    "        pila.append(c)\n",
    "    while pila:\n",
    "        res += pila.pop()\n",
    "    return res\n",
    "\n",
    "print(invertir_cadena(\"hola\"))\n",
    "    "
   ]
  },
  {
   "cell_type": "markdown",
   "id": "5fba1c79",
   "metadata": {},
   "source": [
    "***\n",
    "**Ejercicio 2:** Implementa una función booleana `parentesis_balanceados(cadena)` que verifique si los paréntesis de una expresión matemática están correctamente balanceados (devuelve True en ese caso). La expresión matemática puede contener exclusivamente operadores artitméticos, operandos (números o letras) y paréntesis. Utiliza una pila como estructura auxiliar en dicha función.\n",
    "\n",
    "Casos de prueba:\n",
    "```Python\n",
    "print(parentesis_balanceados(\"((a+b)*c)\"))                                ==> False\n",
    "print(parentesis_balanceados(\"(-b + ((b**2) - (4*a*c)) ** 0.5) / (2*a)\")) ==> True\n",
    "```"
   ]
  },
  {
   "cell_type": "code",
   "execution_count": 8,
   "id": "94bec8b0",
   "metadata": {},
   "outputs": [
    {
     "name": "stdout",
     "output_type": "stream",
     "text": [
      "True\n",
      "True\n"
     ]
    }
   ],
   "source": [
    "\"\"\"def parentesis_balanceados(cadena):\n",
    "    abiertos =0\n",
    "    for c in cadena:\n",
    "        if c == \"(\":\n",
    "            abiertos +=1\n",
    "        elif c == \")\":\n",
    "            abiertos -=1\n",
    "            if abiertos < 0:\n",
    "                return False\n",
    "    \n",
    "    return abiertos == 0\"\"\"\n",
    "    \n",
    "def parentesis_balanceados(cadena):\n",
    "    pila = []\n",
    "    for c in cadena:\n",
    "        if c == '(':\n",
    "            pila.append(c)\n",
    "        elif c == ')':\n",
    "            if not pila:\n",
    "                return False\n",
    "            pila.pop()\n",
    "    return len(pila) == 0\n",
    "\n",
    "\n",
    "print(parentesis_balanceados(\"((a+b)*c)\"))                               \n",
    "print(parentesis_balanceados(\"(-b + ((b**2) - (4*a*c)) ** 0.5) / (2*a)\")) \n",
    "\n",
    "    "
   ]
  },
  {
   "cell_type": "markdown",
   "id": "77770f19",
   "metadata": {},
   "source": [
    "***\n",
    "**Ejercicio 3:** Implementa una funcion de tipo cadena `decimal_a_binario(entero)` que dado un número entero, lo convierta a una cadena que represente dicho número en binario. Utiliza para ello una pila como estructura auxiliar.\n",
    "\n",
    "Casos de prueba:\n",
    "```Python\n",
    "print(decimal_a_binario(27))  ==>  11011\n",
    "print(decimal_a_binario(128)) ==>  10000000\n",
    "```\n"
   ]
  },
  {
   "cell_type": "code",
   "execution_count": 2,
   "id": "1354389e",
   "metadata": {},
   "outputs": [
    {
     "name": "stdout",
     "output_type": "stream",
     "text": [
      " 11011\n"
     ]
    }
   ],
   "source": [
    "def decimal_a_binario(n):\n",
    "    pila = []\n",
    "    while n>0:\n",
    "         pila.append(n%2)\n",
    "         n=n//2\n",
    "    res = \" \"\n",
    "    while pila:\n",
    "        res += str(pila.pop())\n",
    "    return res\n",
    "\n",
    "print(decimal_a_binario(27)) "
   ]
  },
  {
   "cell_type": "markdown",
   "id": "fe419611",
   "metadata": {},
   "source": [
    "***\n",
    "**Ejercicio 4:** Implementa una función booleana `parentesis_duplicados(cadena)` que verifique si una expresión matemática contiene paréntesis innecesarios o duplicados (devuelve True en ese caso). La expresión matemática puede contener exclusivamente operadores artitméticos, operandos (números o letras) y paréntesis. Utiliza una pila como estructura auxiliar en dicha función.\n",
    "\n",
    "Casos de prueba:\n",
    "```Python\n",
    "print(parentesis_duplicados(\"((a+b))\"))                                  ==> True\n",
    "print(parentesis_duplicados(\"(-b + ((b**2) - (4*a*c)) ** 0.5) / (2*a)\")) ==> False\n",
    "True\n",
    "```\n"
   ]
  },
  {
   "cell_type": "code",
   "execution_count": null,
   "id": "b83887b8",
   "metadata": {},
   "outputs": [],
   "source": [
    "def parentesis_duplicados(cadena):\n",
    "    pila = []\n",
    "\n",
    "    for c in cadena:\n",
    "        if c != ')':\n",
    "            pila.append(c)\n",
    "        else:\n",
    "            # Contador de caracteres entre paréntesis\n",
    "            contador = 0\n",
    "            while pila and pila[-1] != '(':\n",
    "                pila.pop()\n",
    "                contador += 1\n",
    "\n",
    "            if pila:\n",
    "                pila.pop()  # Eliminar el '('\n",
    "\n",
    "            if contador == 0:\n",
    "                return True  # Duplicado, no había nada entre paréntesis\n",
    "\n",
    "    return False\n"
   ]
  },
  {
   "cell_type": "markdown",
   "id": "b0ea50c1",
   "metadata": {},
   "source": [
    "***\n",
    "**Ejercicio 5:** Crea una clase \"Navegador\" que simule un navegador web con capacidad de ir \"atrás\" y \"adelante\". Además del constructor, la clase debe tener tres métodos: `visitar_direccion`, `volver` y `avanzar`. Los métodos deben funcionar así:\n",
    "- `visitar_direccion(self, sitio)`: cambia la página actual del navegador por la URL (`sitio`) que se le pasa como argumento.\n",
    "- `volver(self)`: vuelve a la página anterior del historial (si existe), convirtiéndola en la página actual del navegador, y la devuelve.\n",
    "- `avanzar(self)`: avanza a la siguiente página del historial (si existe), convirtiéndola en la página actual del navegador, y la devuelve\n",
    "\n",
    "NOTA: Se recomienda utilizar 2 pilas para implementar las páginas anteriores y siguientes del historial.\n",
    "\n",
    "Casos de prueba:\n",
    "```Python\n",
    "nav = Navegador()\n",
    "nav.visitar_direccion(\"www.python.org\")\n",
    "nav.visitar_direccion(\"www.upv.es\")\n",
    "print(\"Volver:\", nav.volver())\n",
    "nav.visitar_direccion(\"www.samsung.com\")\n",
    "print(\"Avanzar:\", nav.avanzar())\n",
    "print(\"Volver:\", nav.volver())\n",
    "print(\"Avanzar:\", nav.avanzar())\n",
    "print(\"Volver:\", nav.volver())\n",
    "print(\"Volver:\", nav.volver())\n",
    "\n",
    "==>\n",
    "\n",
    "Volver: www.python.org\n",
    "Avanzar: \n",
    "Volver: www.python.org\n",
    "Avanzar: www.samsung.com\n",
    "Volver: www.python.org\n",
    "Volver: \n",
    "```\n"
   ]
  },
  {
   "cell_type": "code",
   "execution_count": null,
   "id": "58bb90f4",
   "metadata": {},
   "outputs": [
    {
     "name": "stdout",
     "output_type": "stream",
     "text": [
      "Volver: www.python.org\n",
      "Avanzar: \n",
      "Volver: www.python.org\n",
      "Avanzar: www.samsung.com\n",
      "Volver: www.python.org\n",
      "Volver: \n"
     ]
    }
   ],
   "source": [
    "class Navegador():\n",
    "    \n",
    "    def __init__(self):\n",
    "        self.pila_anterior = []\n",
    "        self.pila_siguiente = []\n",
    "        self.actual = \"\"  \n",
    "    \n",
    "    def visitar_direccion(self, direccion):\n",
    "        if self.actual:\n",
    "            self.pila_anterior.append(self.actual)\n",
    "        self.actual = direccion\n",
    "        self.pila_siguiente.clear()  \n",
    "        \n",
    "    def volver(self):\n",
    "        if self.pila_anterior:\n",
    "            self.pila_siguiente.append(self.actual)\n",
    "            self.actual = self.pila_anterior.pop()\n",
    "            return self.actual\n",
    "        else:\n",
    "            return \"\"\n",
    "        \n",
    "    def avanzar(self):\n",
    "        if self.pila_siguiente:\n",
    "            self.pila_anterior.append(self.actual)\n",
    "            self.actual = self.pila_siguiente.pop()\n",
    "            return self.actual\n",
    "        else:\n",
    "            return \"\"\n",
    "\n",
    "\n",
    "nav = Navegador()\n",
    "nav.visitar_direccion(\"www.python.org\")\n",
    "nav.visitar_direccion(\"www.upv.es\")\n",
    "print(\"Volver:\", nav.volver())\n",
    "nav.visitar_direccion(\"www.samsung.com\")\n",
    "print(\"Avanzar:\", nav.avanzar())\n",
    "print(\"Volver:\", nav.volver())\n",
    "print(\"Avanzar:\", nav.avanzar())\n",
    "print(\"Volver:\", nav.volver())\n",
    "print(\"Volver:\", nav.volver())"
   ]
  },
  {
   "cell_type": "markdown",
   "id": "b35f25c4-a214-4db6-bd6a-016aa80dd984",
   "metadata": {},
   "source": [
    "## Sección 2: Colas"
   ]
  },
  {
   "cell_type": "markdown",
   "id": "cb199a3e",
   "metadata": {},
   "source": [
    "***\n",
    "**Ejercicio 6:** Implementar una función `mover_ceros` que acepte como parámetro una lista `numeros` que contiene números enteros y devuelva otra lista, en la que los ceros de la lista original se ubiquen al final y se mantenga el orden del resto de los elementos. Utiliza una cola como estructura auxiliar. \n",
    "\n",
    "Casos de prueba:\n",
    "```Python\n",
    "print(mover_ceros(([0, 0, 7])))           ==> [7, 0, 0]\n",
    "print(mover_ceros(([0, 1, 0, 3, 0, 5])))  ==> [1, 3, 5, 0, 0, 0]\n",
    "```\n"
   ]
  },
  {
   "cell_type": "code",
   "execution_count": 8,
   "id": "af6a9f82",
   "metadata": {},
   "outputs": [
    {
     "name": "stdout",
     "output_type": "stream",
     "text": [
      "[7, 0, 0]\n",
      "[1, 3, 5, 0, 0, 0]\n"
     ]
    }
   ],
   "source": [
    "def mover_ceros(lista):\n",
    "    aux_ceros = []\n",
    "    aux_noceros =[]\n",
    "    for l in lista :\n",
    "        if l == 0:\n",
    "            aux_ceros.append(l)\n",
    "        else :\n",
    "            aux_noceros.append(l)\n",
    "    \n",
    "    return aux_noceros +aux_ceros\n",
    "\n",
    "print(mover_ceros(([0, 0, 7])))          \n",
    "print(mover_ceros(([0, 1, 0, 3, 0, 5])))  "
   ]
  },
  {
   "cell_type": "markdown",
   "id": "d1e3a11b",
   "metadata": {},
   "source": [
    "***\n",
    "**Ejercicio 7:** Implementa una clase que defina una \"cola con prioridades\", que devuelva los elementos encolados según su prioridad, teniendo en cuenta que un número de prioridad menor supone tener mayor prioridad. Para ello, la clase `ColaPrioridad` debe incorporar los siguientes métodos:\n",
    "- `__init__(self)`: constructor de la clase.\n",
    "- `encolar(self, elemento, prioridad)`: inserta un elemento en la cola con la prioridad indicada.\n",
    "- `desencolar(self)`: desencola y devuelve el elemento más prioritario (menor número de prioridad). Si hay varios elementos de máxima prioridad, puede devolver cualquiera de ellos. Si la cola está vacía, devuelve `None`.\n",
    "\n",
    "Casos de prueba:\n",
    "```Python\n",
    "cp = ColaPrioridad()\n",
    "cp.encolar(\"Tarea1\", 2)\n",
    "cp.encolar(\"Tarea2\", 1)\n",
    "print(cp.desencolar())\n",
    "\n",
    "==>\n",
    "\n",
    "Tarea2\n",
    "```\n"
   ]
  },
  {
   "cell_type": "code",
   "execution_count": 12,
   "id": "0b844d65",
   "metadata": {},
   "outputs": [
    {
     "name": "stdout",
     "output_type": "stream",
     "text": [
      "Tarea2\n"
     ]
    }
   ],
   "source": [
    "class ColaPrioridad():\n",
    "    \n",
    "    def __init__(self):\n",
    "        self.cola_p = []\n",
    "\n",
    "    def encolar(self, elemento, prioridad):\n",
    "        aux = []\n",
    "        if self.cola_p:\n",
    "            while self.cola_p and self.cola_p[0][1] < prioridad:\n",
    "                aux.append(self.cola_p.pop(0))\n",
    "            aux.append((elemento, prioridad))\n",
    "            while self.cola_p:\n",
    "                aux.append(self.cola_p.pop(0))\n",
    "            self.cola_p = aux\n",
    "        else:\n",
    "            self.cola_p.append((elemento, prioridad))\n",
    "\n",
    "    def desencolar(self):\n",
    "        return self.cola_p.pop(0)[0]\n",
    "\n",
    "\n",
    "    \n",
    "cp = ColaPrioridad()\n",
    "cp.encolar(\"Tarea1\", 2)\n",
    "cp.encolar(\"Tarea2\", 1)\n",
    "print(cp.desencolar())"
   ]
  },
  {
   "cell_type": "markdown",
   "id": "6e9293ae",
   "metadata": {},
   "source": [
    "***\n",
    "**Ejercicio 8:** Implementa una clase que defina una cola circular de tamaño fijo, en la que los elementos se encolen uno detrás de otro de forma que, cuando esté llena, siga siendo posible insertar elementos, sobreescribiendo los que ya había (en orden FIFO). Para ello, la clase `ColaCircular` debe incorporar los siguientes métodos:\n",
    "- `__init__(self, tamaño)`: donde `tamaño` es la cantidad de elementos que caben en la cola como máximo.\n",
    "- `encolar(self, elemento)`: inserta un elemento en la cola circular en la posición siguiente a la última ocupada (orden FIFO).\n",
    "- `desencolar(self)`: desencola el elemento más antiguo de la cola circular (orden FIFO) y lo devuelve. Si la cola está vacía, devuelve `None`.\n",
    "\n",
    "Casos de prueba:\n",
    "```Python\n",
    "c = ColaCircular(3)\n",
    "c.encolar(1); c.encolar(2); c.encolar(3); c.encolar(4); c.encolar(5)\n",
    "print(\"Extraer:\", c.desencolar())\n",
    "print(\"Extraer:\", c.desencolar())\n",
    "print(\"Extraer:\", c.desencolar())\n",
    "print(\"Extraer:\", c.desencolar())\n",
    "c.encolar(10); c.encolar(20); c.encolar(30); c.encolar(40)\n",
    "print(\"Extraer:\", c.desencolar())\n",
    "print(\"Extraer:\", c.desencolar())\n",
    "print(\"Extraer:\", c.desencolar())\n",
    "print(\"Extraer:\", c.desencolar())\n",
    "\n",
    "==> \n",
    "\n",
    "Extraer: 3\n",
    "Extraer: 4\n",
    "Extraer: 5\n",
    "Extraer: None\n",
    "Extraer: 20\n",
    "Extraer: 30\n",
    "Extraer: 40\n",
    "Extraer: None\n",
    "```\n"
   ]
  },
  {
   "cell_type": "code",
   "execution_count": 14,
   "id": "ad1ef5d9",
   "metadata": {},
   "outputs": [
    {
     "name": "stdout",
     "output_type": "stream",
     "text": [
      "Extraer: 3\n",
      "Extraer: 4\n",
      "Extraer: 5\n",
      "Extraer: None\n",
      "Extraer: 20\n",
      "Extraer: 30\n",
      "Extraer: 40\n",
      "Extraer: None\n"
     ]
    }
   ],
   "source": [
    "class ColaCircular():\n",
    "    \n",
    "    def __init__(self,tamaño):\n",
    "        self.cola_circular = []\n",
    "        self.tamaño = tamaño\n",
    "    \n",
    "    def encolar(self,elemento):\n",
    "        if len(self.cola_circular) == self.tamaño:\n",
    "            self.cola_circular.pop(0)\n",
    "        self.cola_circular.append(elemento)\n",
    "    \n",
    "    def desencolar (self):\n",
    "        if len(self.cola_circular) == 0:\n",
    "            return None\n",
    "        else:\n",
    "            return self.cola_circular.pop(0)\n",
    "        \n",
    "c = ColaCircular(3)\n",
    "c.encolar(1); c.encolar(2); c.encolar(3); c.encolar(4); c.encolar(5)\n",
    "print(\"Extraer:\", c.desencolar())\n",
    "print(\"Extraer:\", c.desencolar())\n",
    "print(\"Extraer:\", c.desencolar())\n",
    "print(\"Extraer:\", c.desencolar())\n",
    "c.encolar(10); c.encolar(20); c.encolar(30); c.encolar(40)\n",
    "print(\"Extraer:\", c.desencolar())\n",
    "print(\"Extraer:\", c.desencolar())\n",
    "print(\"Extraer:\", c.desencolar())\n",
    "print(\"Extraer:\", c.desencolar())\n",
    "\n",
    "        "
   ]
  },
  {
   "cell_type": "markdown",
   "id": "62386c09",
   "metadata": {},
   "source": [
    "***\n",
    "**Ejercicio 9:** Implementa una función `simular_supermercado(clientes, num_cajas)` que simule la atención de las cajas de un supermercado. El supermercado tiene tantas cajas como indique el parámetro `num_cajas` (cuyo valor por defecto es 3), y recibe en `clientes` una lista con los nombres de los clientes. La función debe repartir los clientes en orden de llegada de manera equitativa entre las cajas, e imprimir por pantalla a qué clientes se atendería en cada una. Se sugiere utilizar una cola para almacenar los clientes que se atenderían en cada caja, antes de imprimir el resultado.\n",
    "\n",
    "Ejemplo de resultado: \n",
    "```Python\n",
    "simular_supermercado([\"Ana\", \"Luis\", \"Pedro\", \"Clara\", \"Juan\", \"Marta\", \"Carlos\"], 3)\n",
    "\n",
    "==>\n",
    "\n",
    "Caja 1:\n",
    "  Atendiendo a Ana\n",
    "  Atendiendo a Clara\n",
    "  Atendiendo a Carlos\n",
    "Caja 2:\n",
    "  Atendiendo a Luis\n",
    "  Atendiendo a Juan\n",
    "Caja 3:\n",
    "  Atendiendo a Pedro\n",
    "  Atendiendo a Marta\n",
    "```\n"
   ]
  },
  {
   "cell_type": "code",
   "execution_count": 17,
   "id": "3624a67d",
   "metadata": {},
   "outputs": [
    {
     "name": "stdout",
     "output_type": "stream",
     "text": [
      "Caja 1:\n",
      "  Atendiendo a Ana\n",
      "  Atendiendo a Clara\n",
      "  Atendiendo a Carlos\n",
      "Caja 2:\n",
      "  Atendiendo a Luis\n",
      "  Atendiendo a Juan\n",
      "Caja 3:\n",
      "  Atendiendo a Pedro\n",
      "  Atendiendo a Marta\n"
     ]
    }
   ],
   "source": [
    "def simular_supermercado(clientes, num_cajas=3):\n",
    "    cajas = [[] for _ in range(num_cajas)]\n",
    "\n",
    "    for i, cliente in enumerate(clientes):\n",
    "        caja_actual = i % num_cajas\n",
    "        cajas[caja_actual].append(cliente)\n",
    "    \n",
    "    for i, caja in enumerate(cajas, start=1):\n",
    "        print(f\"Caja {i}:\")\n",
    "        while caja:\n",
    "            cliente = caja.pop(0)\n",
    "            print(f\"  Atendiendo a {cliente}\")\n",
    "\n",
    "        \n",
    "\n",
    "simular_supermercado([\"Ana\", \"Luis\", \"Pedro\", \"Clara\", \"Juan\", \"Marta\", \"Carlos\"], 3)\n"
   ]
  },
  {
   "cell_type": "markdown",
   "id": "a1c19a27-2be9-4b5d-a80b-ea9901c69cbb",
   "metadata": {},
   "source": [
    "***\n",
    "**Ejercicio 10**: Implementa una función `cola_prioridad(clientes)` que acepte una lista de clientes, en la que cada cliente es un par `(nombre_cliente, prioridad)` y donde la `prioridad` puede ser \"normal\" o \"urgente\". La función debe devolver otra lista solo con los nombres de los clientes, de manera que todos los clientes urgentes se ubiquen primero y los no urgentes detrás, manteniendo el orden relativo (FIFO) entre ellos de la lista original.\n",
    "\n",
    "Ejemplo de resultado: \n",
    "```Python\n",
    "print(cola_prioridad([(\"Ana\", \"normal\"), (\"Luis\", \"urgente\"), \n",
    "                      (\"Eva\", \"normal\"), (\"Pedro\", \"urgente\")])) \n",
    "\n",
    "==> \n",
    "\n",
    "['Luis', 'Pedro', 'Ana', 'Eva']\n",
    "```"
   ]
  },
  {
   "cell_type": "code",
   "execution_count": null,
   "id": "816f7173-06cb-4bc0-9528-6d7281d4bb5f",
   "metadata": {},
   "outputs": [],
   "source": []
  },
  {
   "cell_type": "markdown",
   "id": "cbf527ff-cc0c-469e-9ac2-48d68b6346f3",
   "metadata": {},
   "source": [
    "## Sección 3: Recorridos secuenciales"
   ]
  },
  {
   "cell_type": "markdown",
   "id": "77311dc9-3f45-4007-90f1-19cf863d7929",
   "metadata": {},
   "source": [
    "***\n",
    "**Ejercicio 11**: Implementa una función `mas_frecuente(secuencia)` que acepte una secuencia de valores, y devuelva el elemento más frecuente. Si varios elementos tienen la misma frecuencia máxima, puede devolver cualquiera de ellos.\n",
    "\n",
    "Ejemplo de resultado: \n",
    "```Python\n",
    "print(mas_frecuente([1, 3, 1, 3, 2, 1, 4, 3, 3])) ==> 3\n",
    "print(mas_frecuente([1, 2, 3, 2, 1, 3, 3, 2, 1])) ==> 1\n",
    "\n",
    "```"
   ]
  },
  {
   "cell_type": "code",
   "execution_count": 24,
   "id": "3a982b6e-af02-4753-a8d5-735cc12a0ad8",
   "metadata": {},
   "outputs": [
    {
     "name": "stdout",
     "output_type": "stream",
     "text": [
      "3\n",
      "1\n"
     ]
    }
   ],
   "source": [
    "def mas_frecuente(secuencia):\n",
    "    dict = {}\n",
    "    mas_frecuente = None\n",
    "    frecuencia_mas_frecuente = 0\n",
    "    for s in secuencia:\n",
    "        if s in dict:\n",
    "            frec = dict.get(s)\n",
    "            frec += 1\n",
    "            dict[s] = frec\n",
    "            if frec >frecuencia_mas_frecuente:\n",
    "                mas_frecuente = s\n",
    "                frecuencia_mas_frecuente = frec\n",
    "        else:\n",
    "            dict[s] = 1 \n",
    "    \n",
    "    return mas_frecuente\n",
    "            \n",
    "print(mas_frecuente([1, 3, 1, 3, 2, 1, 4, 3, 3]))\n",
    "print(mas_frecuente([1, 2, 3, 2, 1, 3, 2,1, 1]))"
   ]
  },
  {
   "cell_type": "markdown",
   "id": "275ddc85-4081-4fc7-9435-3e97b541c05d",
   "metadata": {},
   "source": [
    "***\n",
    "**Ejercicio 12**: Implementa una función booleana `tiene_duplicados(secuencia)` que acepte una secuencia de valores, y devuelva True si existen elementos duplicados, y False en caso contrario.\n",
    "\n",
    "Ejemplo de resultado: \n",
    "```Python\n",
    "print(tiene_duplicados([1, 2, 3, 4, 5])) ==> False\n",
    "print(tiene_duplicados([1, 2, 3, 2, 5])) ==> True\n",
    "```"
   ]
  },
  {
   "cell_type": "code",
   "execution_count": null,
   "id": "c57ce498-dd4f-4566-a4a8-8c5769dcdcf7",
   "metadata": {},
   "outputs": [],
   "source": [
    "def tiene_duplicados (secuencia):\n",
    "    return len(secuencia) == len(set(secuencia))\n"
   ]
  },
  {
   "cell_type": "markdown",
   "id": "29be81af-6c2b-4804-832a-b7c444786421",
   "metadata": {},
   "source": [
    "***\n",
    "**Ejercicio 13**: Implementa una función `encontrar_picos(secuencia)` que acepte una secuencia de valores numéricos, y devuelva una lista con los **índices** de los \"picos locales\" encontrados en la secuencia. Un \"pico local\" es aquel valor que es estrictamente superior a sus \"vecinos\" (los valores anterior y/o posterior) en la secuencia.\n",
    "\n",
    "Ejemplo de resultado: \n",
    "```Python\n",
    "print(encontrar_picos([1, 3, 2, 4, 1, 0, 5]))  ==> [1, 3, 6]\n",
    "print(encontrar_picos([5, 3, 2, 4, 7, 2, 1]))  ==> [0, 4]\n",
    "```"
   ]
  },
  {
   "cell_type": "code",
   "execution_count": 29,
   "id": "8cdb9ce0-7dd8-4065-b66d-cdecd43abb84",
   "metadata": {},
   "outputs": [
    {
     "name": "stdout",
     "output_type": "stream",
     "text": [
      "[1, 3, 6]\n",
      "[0, 4]\n"
     ]
    }
   ],
   "source": [
    "def encontrar_picos(secuencia):\n",
    "    res = []\n",
    "    largo =len(secuencia)\n",
    "    for i in range (len(secuencia)):\n",
    "        if (secuencia [i] > secuencia[(i+1)%largo]) and (secuencia[i]> secuencia[(i-1)%largo]):\n",
    "            res.append(i)\n",
    "    return res\n",
    "            \n",
    "print(encontrar_picos([1, 3, 2, 4, 1, 0, 5]))\n",
    "print(encontrar_picos([5, 3, 2, 4, 7, 2, 1]))\n"
   ]
  },
  {
   "cell_type": "markdown",
   "id": "211126b2-b9ef-4104-baab-0f2b950972f2",
   "metadata": {},
   "source": [
    "***\n",
    "**Ejercicio 14**: Implementa una función `suma_sublistas(secuencia)` que acepte una secuencia de listas que contienen valores numéricos, y devuelva una lista con la **suma** de los valores de cada sublista.\n",
    "\n",
    "Ejemplo de resultado: \n",
    "```Python\n",
    "print(suma_sublistas([[1,2,3], [4,5], [6]]))         ==> [6, 9, 6]\n",
    "print(suma_sublistas([[], [1,11,23,7], [2], [0,4]])) ==> [0, 42, 2, 4]\n",
    "```"
   ]
  },
  {
   "cell_type": "code",
   "execution_count": 31,
   "id": "334289cd-27cb-4543-849a-2d8fd5a89751",
   "metadata": {},
   "outputs": [
    {
     "name": "stdout",
     "output_type": "stream",
     "text": [
      "[6, 9, 6]\n"
     ]
    }
   ],
   "source": [
    "def suma_sublistas(secuencia):\n",
    "    res = []\n",
    "    for l in secuencia:\n",
    "        res.append(sum(l))\n",
    "    return res\n",
    "        \n",
    "print(suma_sublistas([[1,2,3], [4,5], [6]]))"
   ]
  },
  {
   "cell_type": "markdown",
   "id": "fa933b51-193f-4fbe-a31f-64ea4064b98c",
   "metadata": {},
   "source": [
    "***\n",
    "**Ejercicio 15**: Implementa una función `contar_unicos(secuencia)` que acepte una secuencia de valores y devuelva la cantidad de valores únicos que contiene.\n",
    "\n",
    "Ejemplo de resultado: \n",
    "```Python\n",
    "print(contar_unicos([1, 2, 2, 3, 4, 4, 4, 5, 1]))  ==> 5\n",
    "print(contar_unicos([8, 12, 8, 12, 8, 8, 12, 12])) ==> 2\n",
    "```"
   ]
  },
  {
   "cell_type": "code",
   "execution_count": null,
   "id": "77ce5567-2100-4d6e-a345-a0b5aa0102fe",
   "metadata": {},
   "outputs": [],
   "source": [
    "def contar_unicos(secuencia):\n",
    "    return len(set(secuencia))\n",
    "\n",
    "print(contar_unicos([1, 2, 2, 3, 4, 4, 5, 1]))  # ==> 5\n",
    "print(contar_unicos([8, 12, 8, 12, 8, 12, 12]))  # ==> 2"
   ]
  },
  {
   "cell_type": "markdown",
   "id": "f6e9658d-6a10-45ca-b2e3-42b315a3e993",
   "metadata": {},
   "source": [
    "## Sección 4: Recorridos Binarios"
   ]
  },
  {
   "cell_type": "markdown",
   "id": "229609ca-2f69-4316-a4fc-add6d5c277c5",
   "metadata": {},
   "source": [
    "***\n",
    "**Ejercicio 16**: Implementa una función `busqueda_binaria(secuencia, objetivo)` que acepte una secuencia de valores ordenada y un valor `objetivo` a buscar, y devuelva el índice de este valor en la secuencia, o `-1` si no lo encuentra.\n",
    "\n",
    "Ejemplo de resultado: \n",
    "```Python\n",
    "print(busqueda_binaria([1, 3, 5, 7, 9, 11], 7))  ==> 3\n",
    "print(busqueda_binaria([1, 3, 5, 7, 9, 11], 23)) ==> -1\n",
    "```"
   ]
  },
  {
   "cell_type": "code",
   "execution_count": 34,
   "id": "da4b36ef-b3a8-4fcc-a37a-a1d4229031db",
   "metadata": {},
   "outputs": [
    {
     "name": "stdout",
     "output_type": "stream",
     "text": [
      "3\n",
      "-1\n"
     ]
    }
   ],
   "source": [
    "def busqueda_binaria_r(secuencia,objetivo,ini,fin):\n",
    "    if ini >fin:\n",
    "        return -1\n",
    "    medio = (fin+ini )// 2\n",
    "    if secuencia [medio] == objetivo :\n",
    "        return medio\n",
    "    elif secuencia[medio] >objetivo:\n",
    "        return busqueda_binaria_r(secuencia,objetivo,ini,medio-1)\n",
    "    else:\n",
    "        return busqueda_binaria_r(secuencia,objetivo,medio+1,fin)\n",
    "\n",
    "def busqueda_binaria(secuencia,objetivo):\n",
    "    return busqueda_binaria_r(secuencia,objetivo,0,len(secuencia)-1)\n",
    "\n",
    "print(busqueda_binaria([1, 3, 5, 7, 9, 11], 7))  \n",
    "print(busqueda_binaria([1, 3, 5, 7, 9, 11], 23))"
   ]
  },
  {
   "cell_type": "markdown",
   "id": "5f160feb-5e8f-41a8-a2cd-acfaad2237c0",
   "metadata": {},
   "source": [
    "***\n",
    "**Ejercicio 17**: Implementa una función `posicion_insercion(lista, valor)` que acepte una lista ordenada de valores numéricos y un `valor` adicional, y devuelva la posición de la secuencia en la que se debería insertar el valor para mantenera el orden en la lista.\n",
    "\n",
    "Ejemplo de resultado: \n",
    "```Python\n",
    "print(posicion_insercion([12, 33, 54, 61], 10)) ==> 0\n",
    "print(posicion_insercion([12, 33, 54, 61], 40)) ==> 2\n",
    "print(posicion_insercion([12, 33, 54, 61], 73)) ==> 4\n",
    "```"
   ]
  },
  {
   "cell_type": "code",
   "execution_count": 42,
   "id": "79b0a42b-6eb5-42ad-b2ff-d1508bcea49b",
   "metadata": {},
   "outputs": [
    {
     "name": "stdout",
     "output_type": "stream",
     "text": [
      "0\n",
      "2\n",
      "4\n"
     ]
    }
   ],
   "source": [
    "def posicion_insercion_r(secuencia,objetivo,ini,fin):\n",
    "    if ini >fin:\n",
    "        return ini\n",
    "    medio = (fin+ini )// 2\n",
    "    if medio == len(secuencia)-1:\n",
    "        return medio+1\n",
    "    if secuencia [medio] < objetivo and secuencia[medio+1]>objetivo:\n",
    "        return medio+1\n",
    "    elif secuencia[medio] >objetivo:\n",
    "        return posicion_insercion_r(secuencia,objetivo,ini,medio-1)\n",
    "    else:\n",
    "        return posicion_insercion_r(secuencia,objetivo,medio+1,fin)\n",
    "\n",
    "def posicion_insercion(secuencia,objetivo):\n",
    "    return posicion_insercion_r(secuencia,objetivo,0,len(secuencia)-1)\n",
    "\n",
    "print(posicion_insercion([12, 33, 54, 61], 10))\n",
    "print(posicion_insercion([12, 33, 54, 61], 40))\n",
    "print(posicion_insercion([12, 33, 54, 61], 73)) "
   ]
  },
  {
   "cell_type": "markdown",
   "id": "2dbe140e-5f4b-4998-beea-705773f02293",
   "metadata": {},
   "source": [
    "***\n",
    "**Ejercicio 18**: Implementa una función `primera_aparicion(lista, objetivo)` que acepte una lista ordenada de valores numéricos en la que puede haber repetidos y un valor `objetivo`, y devuelva la primera posición de la lista en la que aparece dicho valor, o `-1` si este no aparece.\n",
    "\n",
    "Ejemplo de resultado: \n",
    "```Python\n",
    "print(primera_aparicion([1, 1, 1, 2, 2, 3, 3, 4], 3))  ==> 5\n",
    "print(primera_aparicion([1, 1, 1, 2, 2, 3, 3, 4], 1))  ==> 0\n",
    "print(primera_aparicion([1, 1, 1, 2, 2, 3, 3, 4], 0))  ==> -1\n",
    "```"
   ]
  },
  {
   "cell_type": "code",
   "execution_count": null,
   "id": "055aea62-ee5c-4b13-b633-64f7c73ab6ca",
   "metadata": {},
   "outputs": [],
   "source": [
    "def primera_aparicion_r(lista, objetivo, ini, fin):\n",
    "    if ini > fin:\n",
    "        return -1\n",
    "\n",
    "    medio = (ini + fin) // 2\n",
    "\n",
    "    if lista[medio] == objetivo:\n",
    "        if medio == 0 or lista[medio - 1] != objetivo:\n",
    "            return medio\n",
    "        else:\n",
    "            return primera_aparicion_r(lista, objetivo, ini, medio - 1)\n",
    "    elif lista[medio] > objetivo:\n",
    "        return primera_aparicion_r(lista, objetivo, ini, medio - 1)\n",
    "    else:\n",
    "        return primera_aparicion_r(lista, objetivo, medio + 1, fin)\n",
    "\n",
    "\n",
    "def primera_aparicion(lista, objetivo):\n",
    "    return primera_aparicion_r(lista, objetivo, 0, len(lista) - 1)\n",
    "\n",
    "print(primera_aparicion([1, 1, 1, 2, 2, 3, 3, 4], 3))\n",
    "print(primera_aparicion([1, 1, 1, 2, 2, 3, 3, 4], 1))  \n",
    "print(primera_aparicion([1, 1, 1, 2, 2, 3, 3, 4], 0))  "
   ]
  },
  {
   "cell_type": "markdown",
   "id": "2a218d22-1a40-44d0-8c12-cba19336c9d2",
   "metadata": {},
   "source": [
    "***\n",
    "**Ejercicio 19**: Implementa una función `raiz_entera(numero)` que acepte un número entero y devuelva su raíz cuadrada entera (sin utilizar el operador `**` o la función `math.sqrt(n)`de Python).\n",
    "\n",
    "Sugerencia: Para ello, se puede considerar que buscamos un número entero `x` tal que: `x * x <= n < (x+1) * (x+1)`, donde `x` estará en el rango `[0, n]`. Desde ese punto de vista, podemos usar la búsqueda binaria para localizar ese número `x` en el espacio ordenado `[0, 1, 2, ...., n]`.\n",
    "\n",
    "Ejemplo de resultado: \n",
    "```Python\n",
    "print(raiz_entera(9))   ==> 3\n",
    "print(raiz_entera(10))  ==> 3\n",
    "print(raiz_entera(100)) ==> 10\n",
    "```"
   ]
  },
  {
   "cell_type": "code",
   "execution_count": null,
   "id": "baed642d-1937-41ca-aba8-53d6e0dbb2dc",
   "metadata": {},
   "outputs": [],
   "source": []
  },
  {
   "cell_type": "markdown",
   "id": "1ccc9528-2a33-4fd1-8057-a05847737d1a",
   "metadata": {},
   "source": [
    "***\n",
    "**Ejercicio 20**: Implementa una función `buscar_pico(lista)` que acepte una lista \"montañosa\" de valores numéricos y devuelva la **posición** que ocupa \"pico\" de dicha lista. Una lista \"montañosa\" es aquella que primero crece estrictamente (valores cada vez mayores) y luego disminuye estrictamente (valores cada vez menores). En ese tipo de lista, el \"pico\" es el valor máximo, que establece el punto de inflexión entre la \"subida\" y \"bajada\" de valores.\n",
    "\n",
    "Sugerencia: se puede usar búsqueda binaria, considerando que en cada paso, la comparación entre el valor `medio` y el siguiente (`medio+1`) nos dirá si estamos en la parte \"creciente\" o \"decreciente\" de la lista.\n",
    "\n",
    "\n",
    "Ejemplo de resultado: \n",
    "```Python\n",
    "print(buscar_pico([1, 3, 13, 12, 9, 4, 2, 1]))    ==> 2\n",
    "print(buscar_pico([2, 4, 5, 9, 11, 18, 7, 3]))    ==> 5\n",
    "print(buscar_pico([1, 5, 7, 10, 11, 13, 18, 19])) ==> 7\n",
    "```"
   ]
  },
  {
   "cell_type": "code",
   "execution_count": null,
   "id": "4a574f7e-2b00-4b11-9a33-ecb27abb9843",
   "metadata": {},
   "outputs": [],
   "source": []
  }
 ],
 "metadata": {
  "kernelspec": {
   "display_name": "base",
   "language": "python",
   "name": "python3"
  },
  "language_info": {
   "codemirror_mode": {
    "name": "ipython",
    "version": 3
   },
   "file_extension": ".py",
   "mimetype": "text/x-python",
   "name": "python",
   "nbconvert_exporter": "python",
   "pygments_lexer": "ipython3",
   "version": "3.12.7"
  }
 },
 "nbformat": 4,
 "nbformat_minor": 5
}
