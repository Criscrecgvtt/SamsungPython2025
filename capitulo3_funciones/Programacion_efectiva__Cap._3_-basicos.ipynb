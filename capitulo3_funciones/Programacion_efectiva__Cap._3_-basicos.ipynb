{
 "cells": [
  {
   "cell_type": "markdown",
   "metadata": {},
   "source": [
    "# Programación efectiva (Capítulo 3) - Ejercicios sencillos"
   ]
  },
  {
   "cell_type": "markdown",
   "metadata": {},
   "source": [
    "## Sección 1: Funciones"
   ]
  },
  {
   "cell_type": "markdown",
   "metadata": {},
   "source": [
    "**Ejercicio 1:**\n",
    "Escribe una función llamada `saludo` que reciba un nombre y devuelva un saludo en forma de cadena.\n",
    "\n",
    "Casos de prueba:\n",
    "```python\n",
    "print(saludo(\"Juan\"))  ==> Hola, Juan!\n",
    "```"
   ]
  },
  {
   "cell_type": "code",
   "execution_count": 2,
   "metadata": {},
   "outputs": [
    {
     "name": "stdout",
     "output_type": "stream",
     "text": [
      "Hola, Juan!\n"
     ]
    }
   ],
   "source": [
    "def saludo(nombre):\n",
    "    return f\"Hola, {nombre}!\"\n",
    "\n",
    "print(saludo(\"Juan\"))"
   ]
  },
  {
   "cell_type": "markdown",
   "metadata": {},
   "source": [
    "**Ejercicio 2:**\n",
    "Escribe una función llamada `es_par` que reciba un número entero y devuelva `True` si el número es par y `False` si es impar.\n",
    "\n",
    "Casos de prueba:\n",
    "```python\n",
    "print(es_par(4))  ==> True\n",
    "print(es_par(7))  ==> False\n",
    "```"
   ]
  },
  {
   "cell_type": "code",
   "execution_count": 3,
   "metadata": {},
   "outputs": [
    {
     "name": "stdout",
     "output_type": "stream",
     "text": [
      "True\n",
      "False\n"
     ]
    }
   ],
   "source": [
    "def es_par(num):\n",
    "    return num %2 == 0\n",
    "\n",
    "print(es_par(4))\n",
    "print(es_par(7))"
   ]
  },
  {
   "cell_type": "markdown",
   "metadata": {},
   "source": [
    "**Ejercicio 3:**\n",
    "Escribe una función llamada `suma_lista` que reciba una lista de números y devuelva la suma de todos los elementos de la lista.\n",
    "\n",
    "Casos de prueba:\n",
    "```python\n",
    "print(suma_lista([1, 2, 3, 4]))  ==> 10\n",
    "print(suma_lista([]))            ==> 0\n",
    "\n",
    "```\n"
   ]
  },
  {
   "cell_type": "code",
   "execution_count": 4,
   "metadata": {},
   "outputs": [
    {
     "name": "stdout",
     "output_type": "stream",
     "text": [
      "10\n",
      "0\n"
     ]
    }
   ],
   "source": [
    "def suma_lista(lista):\n",
    "    return sum (lista)\n",
    "\n",
    "print(suma_lista([1, 2, 3, 4]))\n",
    "print(suma_lista([]))\n",
    "    "
   ]
  },
  {
   "cell_type": "markdown",
   "metadata": {},
   "source": [
    "**Ejercicio 4:**\n",
    "Escribe una función llamada `es_palindromo` que reciba una cadena y devuelva `True` si la cadena es un palíndromo y `False` si no lo es.\n",
    "\n",
    "Casos de prueba:\n",
    "```python\n",
    "print(es_palindromo(\"radar\"))   ==> True\n",
    "print(es_palindromo(\"python\"))  ==> False\n",
    "print(es_palindromo(\"a\"))       ==> True\n",
    "```"
   ]
  },
  {
   "cell_type": "code",
   "execution_count": 5,
   "metadata": {},
   "outputs": [
    {
     "name": "stdout",
     "output_type": "stream",
     "text": [
      "True\n",
      "False\n"
     ]
    }
   ],
   "source": [
    "def es_palindromo(word):\n",
    "    return word[::-1] == word\n",
    "print(es_palindromo(\"radar\"))\n",
    "print(es_palindromo(\"python\"))"
   ]
  },
  {
   "cell_type": "markdown",
   "metadata": {},
   "source": [
    "**Ejercicio 5:**\n",
    "Escribe una función llamada `factorial` que reciba un número entero positivo y devuelva su factorial. Usa un bucle para resolverlo.\n",
    "\n",
    "Casos de prueba:\n",
    "```python\n",
    "print(factorial(5))  ==> 120\n",
    "print(factorial(1))  ==> 1\n",
    "```"
   ]
  },
  {
   "cell_type": "code",
   "execution_count": 7,
   "metadata": {},
   "outputs": [
    {
     "name": "stdout",
     "output_type": "stream",
     "text": [
      "120\n",
      "1\n"
     ]
    }
   ],
   "source": [
    "def factorial (n) :\n",
    "    if n ==0:\n",
    "        return 1\n",
    "    res = 1\n",
    "    for i in range (1,n+1):\n",
    "        res *=i\n",
    "    return res\n",
    "\n",
    "print(factorial(5)) \n",
    "print(factorial(1)) "
   ]
  },
  {
   "cell_type": "markdown",
   "metadata": {},
   "source": [
    "## Sección 2: Funciones Recursivas"
   ]
  },
  {
   "cell_type": "markdown",
   "metadata": {},
   "source": [
    "**Ejercicio 6:**\n",
    "Escribe una función recursiva llamada `sumar_lista_recursiva` que reciba una lista de números y devuelva la suma de todos los elementos de la lista.\n",
    "\n",
    "Casos de prueba:\n",
    "```python\n",
    "print(sumar_lista_recursiva([1, 2, 3, 4])) ==> 10\n",
    "print(sumar_lista_recursiva([5]))          ==> 5\n",
    "print(sumar_lista_recursiva([]))           ==> 0\n",
    "```"
   ]
  },
  {
   "cell_type": "code",
   "execution_count": 11,
   "metadata": {},
   "outputs": [
    {
     "name": "stdout",
     "output_type": "stream",
     "text": [
      "10\n"
     ]
    }
   ],
   "source": [
    "def sumar_lista_recursiva(lista):\n",
    "    if not lista :\n",
    "        return 0\n",
    "    else:\n",
    "        return lista[0]+sumar_lista_recursiva(lista[1:])\n",
    "\n",
    "print(sumar_lista_recursiva([1, 2, 3, 4]))"
   ]
  },
  {
   "cell_type": "markdown",
   "metadata": {},
   "source": [
    "**Ejercicio 7:**\n",
    "Escribe una función recursiva llamada `contar_digitos` que reciba un número entero y devuelva el número de dígitos que tiene.\n",
    "\n",
    "Casos de prueba:\n",
    "```python\n",
    "print(contar_digitos(12345))  ==> 5\n",
    "print(contar_digitos(5))      ==> 1\n",
    "print(contar_digitos(0))      ==> 1\n",
    "```\n"
   ]
  },
  {
   "cell_type": "code",
   "execution_count": null,
   "metadata": {},
   "outputs": [],
   "source": [
    "def contar_digitos(numero):\n",
    "    if numero < 10:\n",
    "        return 1\n",
    "    else:\n",
    "        return 1 + contar_digitos(numero // 10)\n",
    "\n",
    "print(contar_digitos(12345))  \n",
    "print(contar_digitos(5))      \n",
    "print(contar_digitos(0))      \n"
   ]
  },
  {
   "cell_type": "markdown",
   "metadata": {},
   "source": [
    "**Ejercicio 8:**\n",
    "Escribe una función recursiva llamada `inversa` que reciba una cadena y devuelva la cadena invertida.\n",
    "\n",
    "Casos de prueba:\n",
    "```python\n",
    "print(inversa(\"hola\"))   ==> \"aloh\"\n",
    "print(inversa(\"adios\"))  ==> \"soida\"\n",
    "print(inversa(\"a\"))      ==> \"a\"\n",
    "print(inversa(\"\"))       ==> \"\"\n",
    "```\n"
   ]
  },
  {
   "cell_type": "code",
   "execution_count": 13,
   "metadata": {},
   "outputs": [
    {
     "name": "stdout",
     "output_type": "stream",
     "text": [
      "aloh\n"
     ]
    }
   ],
   "source": [
    "def inversa(word):\n",
    "    if word == \"\":\n",
    "        return \"\"\n",
    "    else:\n",
    "        return word[-1] + inversa(word[:-1])\n",
    "    \n",
    "print(inversa(\"hola\"))"
   ]
  },
  {
   "cell_type": "markdown",
   "metadata": {},
   "source": [
    "## Sección 3: Funciones Lambda"
   ]
  },
  {
   "cell_type": "markdown",
   "metadata": {},
   "source": [
    "**Ejercicio 9:**\n",
    "Usa una función lambda para crear una lista que contenga los cuadrados de los números del 1 al 10.\n",
    "\n",
    "Casos de prueba:\n",
    "```python\n",
    "print(cuadrados)    ==> [1, 4, 9, 16, 25, 36, 49, 64, 81, 100]\n",
    "```\n"
   ]
  },
  {
   "cell_type": "code",
   "execution_count": 15,
   "metadata": {},
   "outputs": [
    {
     "name": "stdout",
     "output_type": "stream",
     "text": [
      "[1, 4, 9, 16, 25, 36, 49, 64, 81, 100]\n"
     ]
    }
   ],
   "source": [
    "cuadrados = list(map(lambda x:x**2,range(1,11)))\n",
    "print(cuadrados)"
   ]
  },
  {
   "cell_type": "markdown",
   "metadata": {},
   "source": [
    "**Ejercicio 10:**\n",
    "Usa una función lambda para filtrar una lista de números almacenada en la variable ```numeros``` y quedarte solo con los números pares.\n",
    "\n",
    "Casos de prueba:\n",
    "```python\n",
    "numeros = [1, 2, 3, 4, 5, 6, 7, 8, 9, 10] ==> [2, 4, 6, 8, 10]\n",
    "numeros = [23,12]                         ==> [12]\n",
    "numeros = [45]                            ==> []\n",
    "```\n"
   ]
  },
  {
   "cell_type": "code",
   "execution_count": 16,
   "metadata": {},
   "outputs": [
    {
     "name": "stdout",
     "output_type": "stream",
     "text": [
      "[2, 4, 6, 8, 10]\n"
     ]
    }
   ],
   "source": [
    "numeros = [1,2,3,4,5,6,7,8,9,10]\n",
    "print(list(filter(lambda x: x%2 == 0,numeros)))"
   ]
  },
  {
   "cell_type": "markdown",
   "metadata": {},
   "source": [
    "**Ejercicio 11:**\n",
    "Usa una función lambda para ordenar una lista de tuplas en base al segundo elemento de cada tupla.\n",
    "\n",
    "Casos de prueba:\n",
    "```python\n",
    "tuplas = [(1, 3), (4, 2), (5, 1)]          ==> [(5, 1), (4, 2), (1, 3)]\n",
    "tuplas = [(1, 'yb'), (4, 'af'), (2, 'md')] ==> [(4, 'af'), (2, 'md'), (1, 'yb')]\n",
    "tuplas = [(1, -1), (1, 4), (3, -2)]        ==> [(3, -2), (1, -1), (1, 4)]\n",
    "tuplas = [(2, 5)]                          ==> [(2, 5)]\n",
    "```\n"
   ]
  },
  {
   "cell_type": "code",
   "execution_count": null,
   "metadata": {},
   "outputs": [],
   "source": [
    "tuplas = [(1, 3), (4, 2), (5, 1)]\n",
    "print(sorted(tuplas, key=lambda x: x[1]))  \n",
    "\n",
    "tuplas = [(1, 'yb'), (4, 'af'), (2, 'md')]\n",
    "print(sorted(tuplas, key=lambda x: x[1]))  \n",
    "\n",
    "tuplas = [(1, -1), (1, 4), (3, -2)]\n",
    "print(sorted(tuplas, key=lambda x: x[1])) \n",
    "\n",
    "tuplas = [(2, 5)]\n",
    "print(sorted(tuplas, key=lambda x: x[1]))  \n"
   ]
  },
  {
   "cell_type": "markdown",
   "metadata": {},
   "source": [
    "**Ejercicio 12:**\n",
    "Usa una función lambda para encontrar el mayor número en una lista de números.\n",
    "\n",
    "Casos de prueba:\n",
    "```python\n",
    "numeros = [1, 2, 3, 4, 5]     ==> 5\n",
    "numeros = [-4, 1, 2, 3, -2]   ==> 3\n",
    "\n",
    "```\n"
   ]
  },
  {
   "cell_type": "code",
   "execution_count": null,
   "metadata": {},
   "outputs": [],
   "source": [
    "from functools import reduce\n",
    "\n",
    "numeros = [1, 2, 3, 4, 5]\n",
    "mayor = reduce(lambda x, y: x if x > y else y, numeros)\n",
    "print(mayor)"
   ]
  },
  {
   "cell_type": "markdown",
   "metadata": {},
   "source": [
    "**Ejercicio 13:**\n",
    "Usa una función lambda para crear una función que sume tres números.\n",
    "\n",
    "Casos de prueba:\n",
    "```python\n",
    "print(suma_tres(1, 2, 3))   ==> 6\n",
    "```\n"
   ]
  },
  {
   "cell_type": "code",
   "execution_count": 17,
   "metadata": {},
   "outputs": [
    {
     "name": "stdout",
     "output_type": "stream",
     "text": [
      "6\n"
     ]
    }
   ],
   "source": [
    "def suma_tres(a,b,c):\n",
    "   return (lambda x,y,z:x+y+z)(a,b,c)\n",
    "\n",
    "print(suma_tres(1, 2, 3))"
   ]
  },
  {
   "cell_type": "markdown",
   "metadata": {},
   "source": [
    "## Sección 4: Clases y Objetos"
   ]
  },
  {
   "cell_type": "markdown",
   "metadata": {},
   "source": [
    "**Ejercicio 14:**\n",
    "Define una clase `Coche` con los atributos `marca`, `modelo` y `año`. Incluye un método que imprima la descripción del coche.\n",
    "\n",
    "Casos de prueba:\n",
    "```python\n",
    "mi_coche = Coche(\"Toyota\", \"Corolla\", 2020)\n",
    "print(mi_coche.descripcion())                ==> \"Toyota Corolla del año 2020\"\n",
    "```\n"
   ]
  },
  {
   "cell_type": "code",
   "execution_count": 21,
   "metadata": {},
   "outputs": [
    {
     "name": "stdout",
     "output_type": "stream",
     "text": [
      "Toyota Corolla del año 2020\n"
     ]
    }
   ],
   "source": [
    "class Coche():\n",
    "    def __init__ (self, marca ,modelo,año):\n",
    "        self.marca = marca\n",
    "        self.modelo = modelo\n",
    "        self.año = año\n",
    "    \n",
    "    def descripcion(self):\n",
    "        return f\"{self.marca} {self.modelo} del año {self.año}\"\n",
    "    \n",
    "mi_coche = Coche(\"Toyota\", \"Corolla\", 2020)\n",
    "print(mi_coche.descripcion())"
   ]
  },
  {
   "cell_type": "markdown",
   "metadata": {},
   "source": [
    "**Ejercicio 15:**\n",
    "Define una clase `Rectangulo` con los atributos `base` y `altura`. Incluye un método que calcule y devuelva el área del rectángulo.\n",
    "\n",
    "Casos de prueba:\n",
    "```python\n",
    "mi_rectangulo = Rectangulo(4, 5)\n",
    "print(mi_rectangulo.area())        ==> 20\n",
    "```\n"
   ]
  },
  {
   "cell_type": "code",
   "execution_count": 22,
   "metadata": {},
   "outputs": [
    {
     "name": "stdout",
     "output_type": "stream",
     "text": [
      "20\n"
     ]
    }
   ],
   "source": [
    "class Rectangulo():\n",
    "    def __init__ (self,base,altura):\n",
    "        self.base = base\n",
    "        self.altura = altura\n",
    "    \n",
    "    def area(self):\n",
    "        return self.base * self.altura\n",
    "\n",
    "mi_rectangulo = Rectangulo(4, 5)\n",
    "print(mi_rectangulo.area())"
   ]
  },
  {
   "cell_type": "markdown",
   "metadata": {},
   "source": [
    "**Ejercicio 16:**\n",
    "Define una clase `CuentaBancaria` con los atributos `titular` y `saldo`. Incluye métodos para depositar y retirar dinero, y para mostrar el saldo actual.\n",
    "\n",
    "Casos de prueba:\n",
    "```python\n",
    "mi_cuenta = CuentaBancaria(\"Ana\", 1000)\n",
    "mi_cuenta.depositar(500)\n",
    "mi_cuenta.retirar(200)\n",
    "print(mi_cuenta.mostrar_saldo())             ==> 1300\n",
    "```\n"
   ]
  },
  {
   "cell_type": "code",
   "execution_count": 23,
   "metadata": {},
   "outputs": [
    {
     "name": "stdout",
     "output_type": "stream",
     "text": [
      "1300\n"
     ]
    }
   ],
   "source": [
    "class CuentaBancaria():\n",
    "    def __init__(self, titular, saldo):\n",
    "        self.saldo = saldo\n",
    "        self.titular = titular\n",
    "    \n",
    "    def depositar(self , c):\n",
    "        self.saldo += c\n",
    "        \n",
    "    def retirar(self , c):\n",
    "        self.saldo -= c\n",
    "    \n",
    "    def mostrar_saldo(self ):\n",
    "        return self.saldo\n",
    "    \n",
    "mi_cuenta = CuentaBancaria(\"Ana\", 1000)\n",
    "mi_cuenta.depositar(500)\n",
    "mi_cuenta.retirar(200)\n",
    "print(mi_cuenta.mostrar_saldo())             "
   ]
  },
  {
   "cell_type": "markdown",
   "metadata": {},
   "source": [
    "**Ejercicio 17:**\n",
    "Define una clase `Libro` con los atributos `titulo`, `autor` y `numero_paginas`. Incluye un método que imprima la descripción del libro.\n",
    "\n",
    "Casos de prueba:\n",
    "```python\n",
    "mi_libro = Libro(\"1984\", \"George Orwell\", 328)\n",
    "print(mi_libro.descripcion())                    ==> \"1984 por George Orwell, 328 páginas\"\n",
    "```\n"
   ]
  },
  {
   "cell_type": "code",
   "execution_count": 25,
   "metadata": {},
   "outputs": [
    {
     "name": "stdout",
     "output_type": "stream",
     "text": [
      "1984 por George Orwell, 328 páginas\n"
     ]
    }
   ],
   "source": [
    "class Libro():\n",
    "    def __init__(self,titulo,autor,numero_paginas):\n",
    "        self.titulo = titulo\n",
    "        self.autor = autor\n",
    "        self.numero_paginas = numero_paginas\n",
    "    \n",
    "    def descripcion(self):\n",
    "        return f\"{self.titulo} por {self.autor}, {self.numero_paginas} páginas\"\n",
    "    \n",
    "mi_libro = Libro(\"1984\", \"George Orwell\", 328)\n",
    "print(mi_libro.descripcion()) "
   ]
  },
  {
   "cell_type": "markdown",
   "metadata": {},
   "source": [
    "**Ejercicio 18:**\n",
    "Define una clase `Punto` con los atributos `x` e `y`, de forma que dichos atributos representen las coordenadas de un punto en un plano. Incluye un método `distancia` que calcule la distancia entre dos puntos (objetos de dicha clase).\n",
    "\n",
    "**Nota:** la fórmula para calcular la distancia entre dos puntos (x1, y1) y (x2, y2) es: d = √((x2 - x1)² + (y2 - y1)²)\n",
    "\n",
    "Casos de prueba:\n",
    "```python\n",
    "punto1 = Punto(0, 0)\n",
    "punto2 = Punto(3, 4)\n",
    "print(punto1.distancia(punto2))   ==> 5.0\n",
    "```\n"
   ]
  },
  {
   "cell_type": "code",
   "execution_count": 30,
   "metadata": {},
   "outputs": [
    {
     "name": "stdout",
     "output_type": "stream",
     "text": [
      "5.0\n"
     ]
    }
   ],
   "source": [
    "class Punto ():\n",
    "    def __init__(self,x,y):\n",
    "        self.x = x\n",
    "        self.y = y\n",
    "    def distancia(self,punto):\n",
    "        return ((punto.x-self.x)**2+(punto.y-self.y)**2)**0.5  \n",
    "    \n",
    "punto1 = Punto(0, 0)\n",
    "punto2 = Punto(3, 4)\n",
    "print(punto1.distancia(punto2))  "
   ]
  },
  {
   "cell_type": "code",
   "execution_count": null,
   "metadata": {},
   "outputs": [],
   "source": []
  }
 ],
 "metadata": {
  "kernelspec": {
   "display_name": "base",
   "language": "python",
   "name": "python3"
  },
  "language_info": {
   "codemirror_mode": {
    "name": "ipython",
    "version": 3
   },
   "file_extension": ".py",
   "mimetype": "text/x-python",
   "name": "python",
   "nbconvert_exporter": "python",
   "pygments_lexer": "ipython3",
   "version": "3.12.7"
  }
 },
 "nbformat": 4,
 "nbformat_minor": 4
}
