{
 "cells": [
  {
   "cell_type": "markdown",
   "metadata": {},
   "source": [
    "# Tipos de datos secuencia (listas, diccionarios,...) (Capítulo 2)"
   ]
  },
  {
   "cell_type": "markdown",
   "metadata": {},
   "source": [
    "# Ejercicio 1\n",
    "Dada una lista de listas de enteros denominada ```t```, implementa un programa que sume los elementos de todas las listas anidadas de esa lista.\n",
    "\n",
    "Puedes usar los siguientes casos de prueba para verificar su funcionamiento:\n",
    "```python\n",
    "t = [[2,3,4],[0,0],[-4],[-5,8]] ==> 8\n",
    "t = [[1,2], [3], [4,5,6]]       ==> 21\n",
    "t = []                          ==> 0\n",
    "t = [[], [], []]                ==> 0\n",
    "t = [[5]]                       ==> 5\n",
    "t = [[], [8]]                   ==> 8\n",
    "```"
   ]
  },
  {
   "cell_type": "code",
   "execution_count": 9,
   "metadata": {},
   "outputs": [
    {
     "name": "stdout",
     "output_type": "stream",
     "text": [
      "8\n"
     ]
    }
   ],
   "source": [
    "t1 = [[2,3,4],[0,0],[-4],[-5,8]] \n",
    "t2 = [[1,2], [3], [4,5,6]]       \n",
    "t3 = []                          \n",
    "t4 = [[], [], []]               \n",
    "t5 = [[5]]                       \n",
    "t6 = [[], [8]]   \n",
    "\n",
    "sum =0\n",
    "for list in t6:\n",
    "    for elem in list:\n",
    "        sum+=elem\n",
    "\n",
    "print(sum)"
   ]
  },
  {
   "cell_type": "markdown",
   "metadata": {},
   "source": [
    "# Ejercicio 2\n",
    "Escribe una programa que a partir de una lista de números enteros ```t```, genere otra que contenga la suma acumulativa de los números de ```t```, es decir, en la nueva lista el i-ésimo elemento es la suma de los primeros i elementos de la lista original.\n",
    "\n",
    "Puedes usar los siguientes casos de prueba para verificar su funcionamiento:\n",
    "```python\n",
    "t = [2,2,3,3,4,4,5,5]      ==> [2,4,7,10,14,18,23,28]\n",
    "t = []                     ==> []\n",
    "t = [12,2,0,3,0,4,-6,5,15] ==> [12,14,14,17,17,21,15,20,35]\n",
    "t = [5]                    ==> [5]\n",
    "t = [-8,8]                 ==> [-8,0]\n",
    "```\n"
   ]
  },
  {
   "cell_type": "code",
   "execution_count": 11,
   "metadata": {},
   "outputs": [
    {
     "name": "stdout",
     "output_type": "stream",
     "text": [
      "[2, 4, 7, 10, 14, 18, 23, 28]\n"
     ]
    }
   ],
   "source": [
    "t =[2,2,3,3,4,4,5,5]\n",
    "aux = []\n",
    "sum =0\n",
    "for num in t:\n",
    " sum+= num \n",
    " aux.append(sum)\n",
    "\n",
    "print(aux)"
   ]
  },
  {
   "cell_type": "markdown",
   "metadata": {},
   "source": [
    "# Ejercicio 3\n",
    "Escribe un programa que tome una lista ```t``` y devuelva una nueva lista que contenga todos los elementos excepto el primero y el último.\n",
    "\n",
    "Puedes usar los siguientes casos de prueba para verificar su funcionamiento:\n",
    "```python\n",
    "t = [2,2,3,3,4,4,5,5]      ==> [2,3,3,4,4,5]\n",
    "t = []                     ==> []\n",
    "t = [12]                   ==> []\n",
    "t = [5, 6]                 ==> []\n",
    "t = [8,8,8]                ==> [8]\n",
    "```\n"
   ]
  },
  {
   "cell_type": "code",
   "execution_count": 16,
   "metadata": {},
   "outputs": [
    {
     "name": "stdout",
     "output_type": "stream",
     "text": [
      "[2, 3, 3, 4, 4, 5]\n",
      "[]\n",
      "[]\n",
      "[]\n",
      "[8]\n"
     ]
    }
   ],
   "source": [
    "\n",
    "t = [2,2,3,3,4,4,5,5] \n",
    "t1 =[]\n",
    "t2= [12]\n",
    "t3 = [5,6]\n",
    "t4 = [8,8,8]\n",
    "print(t[1:-1])\n",
    "print(t1[1:-1])\n",
    "print(t2[1:-1])\n",
    "print(t3[1:-1])\n",
    "print(t4[1:-1])\n"
   ]
  },
  {
   "cell_type": "markdown",
   "metadata": {},
   "source": [
    "# Ejercicio 4\n",
    "Escribe un programa que lea un archivo de texto, cuente la frecuencia de cada palabra (ignorando las mayúsculas y minúsculas), y almacene los resultados en un diccionario. Luego, el programa debe imprimir las 5 palabras más frecuentes y sus conteos.\n"
   ]
  },
  {
   "cell_type": "code",
   "execution_count": null,
   "metadata": {},
   "outputs": [
    {
     "name": "stdout",
     "output_type": "stream",
     "text": [
      "{'hola': 1, 'chat': 2, 'miau': 4, 'caca': 1, 'culo': 3, 'pedo': 2, 'pis': 1, 'palomitas': 1}\n"
     ]
    }
   ],
   "source": [
    "fd = open(\"hola.txt\",\"r\")\n",
    "content = fd.read()\n",
    "words = content.lower().split()  # esto separa por cualquier espacio en blanco\n",
    "cleaned_words = [word.strip() for word in words]\n",
    "max_frec = 0\n",
    "aux_dict ={}\n",
    "for word in cleaned_words:\n",
    "    if word in aux_dict :\n",
    "        temp_frec = aux_dict[word]\n",
    "        temp_frec += 1\n",
    "        aux_dict[word] = temp_frec\n",
    "    else:\n",
    "       aux_dict[word]= 1\n",
    "    \n",
    "print(aux_dict)\n",
    "\n",
    "# Ordenamos el diccionario por frecuencia descendente\n",
    "top5 = sorted(aux_dict.items(), key=lambda x: x[1], reverse=True)[:5]\n",
    "\n",
    "# Mostramos las 5 palabras más frecuentes\n",
    "print(\"Las 5 palabras más frecuentes son:\")\n",
    "for word, count in top5:\n",
    "    print(f\"{word}: {count}\")\n"
   ]
  },
  {
   "cell_type": "markdown",
   "metadata": {},
   "source": [
    "# Ejercicio 5\n",
    "Escribe una función booleana llamada ```es_anagrama``` que tome dos cadenas ```s1``` y ```s2``` y devuelva cierto si son anagramas, es decir, si tienen las mismas letras aunque no estén en el mismo orden.\n",
    "\n",
    "Puedes usar los siguientes casos de prueba para verificar su funcionamiento:\n",
    "\n",
    "```Python\n",
    "s1 = \"amor\"    s2 = \"roma\"    ==> True\n",
    "s1 = \"seto\"    s2 = \"esto\"    ==> True\n",
    "s1 = \"arca\"    s2 = \"cara\"    ==> True\n",
    "s1 = \"delira\"  s2 = \"lidero\"  ==> False\n",
    "\n",
    "```\n"
   ]
  },
  {
   "cell_type": "code",
   "execution_count": 28,
   "metadata": {},
   "outputs": [
    {
     "name": "stdout",
     "output_type": "stream",
     "text": [
      "True\n"
     ]
    }
   ],
   "source": [
    "s1 = \"amor\"\n",
    "s2 = \"roma\"\n",
    "\n",
    "s1 = set(s1)\n",
    "s2 = set(s2)\n",
    "\n",
    "print(s1 == s2)\n"
   ]
  },
  {
   "cell_type": "markdown",
   "metadata": {},
   "source": [
    "# Ejercicio 6\n",
    "Escribe una función booleana llamada ```tiene_duplicados``` que acepte una lista ```t``` como parámetro y devuelva cierto si hay algún elemento que aparece más de una vez.\n",
    "\n",
    "Puedes usar los siguientes casos de prueba para verificar su funcionamiento:\n",
    "\n",
    "```Python\n",
    "t = [2,2,3,3,4,4,5,5]   ==> True\n",
    "t = []                  ==> False\n",
    "t = [12]                ==> False\n",
    "t = [5,6]               ==> False\n",
    "t = [8,8,8]             ==> True\n",
    "```\n",
    "\n"
   ]
  },
  {
   "cell_type": "code",
   "execution_count": 29,
   "metadata": {},
   "outputs": [
    {
     "name": "stdout",
     "output_type": "stream",
     "text": [
      "True\n"
     ]
    }
   ],
   "source": [
    "\n",
    "t = [2,2,3,3,4,4,5,5]  \n",
    "print( len(t) != len(set(t))) #set no tiene dups\n"
   ]
  },
  {
   "cell_type": "markdown",
   "metadata": {},
   "source": [
    "# Ejercicio 7\n",
    "\n",
    "Escribe un programa que cree un diccionario que funcione como un pequeño tesauro (diccionario de sinónimos), incluyendo al menos 5 palabras y sus correspondientes sinónimos. Es posible que una misma palabra tenga más de un sinónimo.\n",
    "\n",
    "El programa debe contener una función denominada ```sinonimos``` que reciba una palabra ```p``` y, consultando el diccionario, devuelva una lista con sus sinónimos, ordenados alfabéticamente. Si la palabra no está en el diccionario, la función debe devolver una lista vacía. El programa debe realizar varias llamadas a la función ```sinonimos``` con distintas palabras (algunas en el diccionario, otras no), e imprimir el resultado de la función.\n"
   ]
  },
  {
   "cell_type": "code",
   "execution_count": null,
   "metadata": {},
   "outputs": [],
   "source": [
    "\n"
   ]
  },
  {
   "cell_type": "markdown",
   "metadata": {},
   "source": [
    "# Ejercicio 8\n",
    "Escribe una función denominada ```match_words``` que acepte como parámetro una lista de strings ```s```, y que devuelva la cantidad de cadenas de la lista que cumplan con las siguientes características: la longitud de la cadena es mayor que 2, el primer y el último carácter de la cadena coinciden.\n",
    "\n",
    "Puedes usar los siguientes casos de prueba para verificar su funcionamiento:\n",
    "\n",
    "```Python\n",
    "s = [\"abc\", \"bb\", \"aba\", \"\", \"abcde\"]   ==> 1\n",
    "s = [\"    \", \"a     a\"]                 ==> 2\n",
    "s = []                                  ==> 0\n",
    "s = [\"dgtd\", \"aaa\", \"ab\", \"zdfyudxz\"]   ==> 3\n",
    "```\n",
    "\n"
   ]
  },
  {
   "cell_type": "code",
   "execution_count": null,
   "metadata": {},
   "outputs": [],
   "source": [
    "\n"
   ]
  },
  {
   "cell_type": "markdown",
   "metadata": {},
   "source": [
    "# Ejercicio 9\n",
    "Escribe una función ```eliminar_superiores_media``` que reciba una lista de números enteros ```l``` como parámetro y devuelva otra lista resultado de eliminar de ```l``` aquellos números que sean estrictamente superiores a la media de todos los números de la lista ```l```.\n",
    "\n",
    "Puedes usar los siguientes casos de prueba para verificar su funcionamiento:\n",
    "\n",
    "```Python\n",
    "l = [2, 3, 4, 5]    ==> [2, 3]\n",
    "l = [1, 1, 1, 1]    ==> [1, 1, 1, 1]\n",
    "l = [0,0]           ==> [0,0]\n",
    "l = []              ==> []\n",
    "l = [-1, -2, -3]    ==> [-2, -3]\n",
    "```\n",
    "\n",
    "\n"
   ]
  },
  {
   "cell_type": "code",
   "execution_count": null,
   "metadata": {},
   "outputs": [],
   "source": []
  },
  {
   "cell_type": "markdown",
   "metadata": {},
   "source": [
    "# Ejercicio 10\n",
    "Escribe un programa que determine la persona ganadora de unas elecciones, a partir de un diccionario en el que las claves son los nombres de las candidatas y sus valores correspondientes son las cantidades respectivas de votos que han obtenido. Introduce al menos 5 nombres como claves en el diccionario y para cada uno, genera un número aleatorio de votos entre 1000 y 10000 (utiliza para ello el módulo ```random```).\n",
    "\n"
   ]
  },
  {
   "cell_type": "code",
   "execution_count": 4,
   "metadata": {},
   "outputs": [],
   "source": [
    "from random import randint\n",
    "#Ej: num_votos = randint(1000, 10000)"
   ]
  },
  {
   "cell_type": "markdown",
   "metadata": {},
   "source": [
    "# Ejercicio 11\n",
    "\n",
    "Escribe una función ```suma_diagonal_matriz``` que reciba como parámetro una matriz cuadrada ```m``` de números enteros y devuelva la suma de aquellos números que ocupan la posición diagonal (de la esquina superior izquierda a la inferior derecha de la matriz).\n",
    "\n",
    "Puedes usar los siguientes casos de prueba para verificar su funcionamiento:\n",
    "\n",
    "```Python\n",
    "m = [[1, 2, 3], [4, 5, 6], [7, 8, 9]]   ==> 15\n",
    "s = [[1, 0, 1], [1, 1, 0], [1, 1, 1]]   ==> 3\n",
    "s = [[2, 0], [0, 2]]                    ==> 4\n",
    "s = []                                  ==> 0\n",
    "```\n",
    "\n"
   ]
  },
  {
   "cell_type": "code",
   "execution_count": null,
   "metadata": {},
   "outputs": [],
   "source": [
    "\n"
   ]
  }
 ],
 "metadata": {
  "kernelspec": {
   "display_name": "base",
   "language": "python",
   "name": "python3"
  },
  "language_info": {
   "codemirror_mode": {
    "name": "ipython",
    "version": 3
   },
   "file_extension": ".py",
   "mimetype": "text/x-python",
   "name": "python",
   "nbconvert_exporter": "python",
   "pygments_lexer": "ipython3",
   "version": "3.12.7"
  }
 },
 "nbformat": 4,
 "nbformat_minor": 4
}
